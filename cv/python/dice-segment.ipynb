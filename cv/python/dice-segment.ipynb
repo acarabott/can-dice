{
 "cells": [
  {
   "cell_type": "code",
   "execution_count": 2,
   "metadata": {
    "collapsed": true
   },
   "outputs": [],
   "source": [
    "%matplotlib inline\n",
    "import numpy as np\n",
    "import cv2\n",
    "import matplotlib.pyplot as plt"
   ]
  },
  {
   "cell_type": "code",
   "execution_count": 3,
   "metadata": {
    "collapsed": true
   },
   "outputs": [],
   "source": [
    "plt.rcParams['figure.figsize'] = (10, 10)\n",
    "blue = (43, 156, 212)\n",
    "red = (212, 100, 100)\n",
    "orange = (249, 182, 118)\n",
    "green = (43, 212, 156)"
   ]
  },
  {
   "cell_type": "code",
   "execution_count": 4,
   "metadata": {
    "collapsed": true
   },
   "outputs": [],
   "source": [
    "paths = ['dice1.jpg', 'dice2.jpg', 'dice4.jpg']"
   ]
  },
  {
   "cell_type": "code",
   "execution_count": 21,
   "metadata": {},
   "outputs": [
    {
     "name": "stdout",
     "output_type": "stream",
     "text": [
      "wrote to output/dice1.jpg-00.png\n",
      "wrote to output/dice1.jpg-01.png\n",
      "wrote to output/dice2.jpg-00.png\n",
      "wrote to output/dice2.jpg-01.png\n",
      "wrote to output/dice4.jpg-00.png\n",
      "wrote to output/dice4.jpg-01.png\n",
      "wrote to output/dice4.jpg-02.png\n"
     ]
    }
   ],
   "source": [
    "results = []\n",
    "for i, path in enumerate(paths):\n",
    "    img = cv2.imread('../imgs/{}'.format(path))\n",
    "    img_gray = cv2.cvtColor(img, cv2.COLOR_BGR2GRAY)\n",
    "    blurred = cv2.blur(img_gray, (10, 10))\n",
    "    retval, threshold = cv2.threshold(blurred, 110, 255, cv2.THRESH_BINARY)\n",
    "    threshold, contours, hierarchy = cv2.findContours(threshold, cv2.RETR_EXTERNAL, cv2.CHAIN_APPROX_NONE)\n",
    "#     cv2.drawContours(img, contours, -1, orange, cv2.LINE_AA)\n",
    "    \n",
    "    for c, contour in enumerate(contours):\n",
    "        # dice min area (rotated rect)\n",
    "        rect_min_area = cv2.minAreaRect(contour)\n",
    "        rect_min_points = cv2.boxPoints(rect_min_area)\n",
    "        rect_min_box = np.int0(rect_min_points)\n",
    "#         cv2.drawContours(img, [rect_min_box], 0, red, cv2.LINE_AA)\n",
    "        \n",
    "        # bounding rect of the *min area rect*\n",
    "        rrb = cv2.boundingRect(rect_min_points)\n",
    "        rrb_tl = rrb[0:2]\n",
    "        rrb_br = tuple([sum(x) for x in zip(rrb_tl, rrb[2:4])])\n",
    "#         cv2.rectangle(img, rrb_tl, rrb_br, blue, 3, cv2.LINE_AA)\n",
    "        \n",
    "        y_start = min(max(0, rrb_tl[1]), img.shape[1])\n",
    "        y_end =   min(max(0, rrb_br[1]), img.shape[1])\n",
    "        \n",
    "        x_start = min(max(0, rrb_tl[0]), img.shape[0])\n",
    "        x_end =   min(max(0, rrb_br[0]), img.shape[0])\n",
    "\n",
    "        cropped = threshold[y_start:y_end, x_start:x_end]        \n",
    "#         results.append(cropped)\n",
    "\n",
    "        rect_min_width = int(rect_min_area[1][0] - rect_min_area[0][0])\n",
    "        rect_min_height = int(rect_min_area[1][1] - rect_min_area[0][1])\n",
    "        \n",
    "        keep = rect_min_area[2] > -45\n",
    "        width = int(rect_min_area[1][0 if keep else 1])\n",
    "        height = int(rect_min_area[1][1 if keep else 0])\n",
    "        angle = rect_min_area[2] + (0 if keep else 90)\n",
    "        center = (width / 2, height / 2)\n",
    "        \n",
    "        dsize = (width * 2, height * 2)    \n",
    "        matrix = cv2.getRotationMatrix2D(center, angle, 1.0)\n",
    "        straight = cv2.warpAffine(cropped, matrix, dsize)\n",
    "        \n",
    "        straight_col = cv2.cvtColor(straight, cv2.COLOR_GRAY2BGR)\n",
    "        t, cc, h = cv2.findContours(straight, cv2.RETR_EXTERNAL, cv2.CHAIN_APPROX_NONE)\n",
    "        \n",
    "        bb = cv2.boundingRect(cc[0])\n",
    "        straight_crop = straight[\n",
    "            bb[1]:bb[1] + bb[3],\n",
    "            bb[0]:bb[0] + bb[2]\n",
    "        ]\n",
    "#         cv2.drawContours(straight_col, cc, -1, orange, cv2.LINE_AA)\n",
    "        filename = 'output/{}-{}.png'.format(path, str(c).zfill(2))\n",
    "        cv2.imwrite(filename, straight_crop)\n",
    "        print('wrote to {}'.format(filename))\n",
    "        results.append(straight_crop)\n",
    "                "
   ]
  },
  {
   "cell_type": "code",
   "execution_count": null,
   "metadata": {
    "collapsed": true
   },
   "outputs": [],
   "source": []
  }
 ],
 "metadata": {
  "kernelspec": {
   "display_name": "Python 3",
   "language": "python",
   "name": "python3"
  },
  "language_info": {
   "codemirror_mode": {
    "name": "ipython",
    "version": 3
   },
   "file_extension": ".py",
   "mimetype": "text/x-python",
   "name": "python",
   "nbconvert_exporter": "python",
   "pygments_lexer": "ipython3",
   "version": "3.6.1"
  }
 },
 "nbformat": 4,
 "nbformat_minor": 2
}
