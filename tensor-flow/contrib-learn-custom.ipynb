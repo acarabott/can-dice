{
 "cells": [
  {
   "cell_type": "code",
   "execution_count": 1,
   "metadata": {
    "collapsed": true
   },
   "outputs": [],
   "source": [
    "import numpy as np\n",
    "import tensorflow as tf"
   ]
  },
  {
   "cell_type": "code",
   "execution_count": 4,
   "metadata": {},
   "outputs": [
    {
     "name": "stdout",
     "output_type": "stream",
     "text": [
      "WARNING:tensorflow:Using temporary folder as model directory: /var/folders/fl/ht8mv2zd5nq5txxpt3w7jq_h0000gn/T/tmpyvnwc4o_\n",
      "INFO:tensorflow:Using default config.\n",
      "INFO:tensorflow:Using config: {'_task_type': None, '_task_id': 0, '_cluster_spec': <tensorflow.python.training.server_lib.ClusterSpec object at 0x10cf3c518>, '_master': '', '_num_ps_replicas': 0, '_environment': 'local', '_is_chief': True, '_evaluation_master': '', '_tf_config': gpu_options {\n",
      "  per_process_gpu_memory_fraction: 1\n",
      "}\n",
      ", '_tf_random_seed': None, '_save_summary_steps': 100, '_save_checkpoints_secs': 600, '_save_checkpoints_steps': None, '_keep_checkpoint_max': 5, '_keep_checkpoint_every_n_hours': 10000}\n",
      "INFO:tensorflow:Create CheckpointSaverHook.\n",
      "INFO:tensorflow:Saving checkpoints for 1 into /var/folders/fl/ht8mv2zd5nq5txxpt3w7jq_h0000gn/T/tmpyvnwc4o_/model.ckpt.\n",
      "INFO:tensorflow:loss = 0.115455488371, step = 1\n",
      "INFO:tensorflow:global_step/sec: 1903.78\n",
      "INFO:tensorflow:loss = 0.0981575356041, step = 101\n",
      "INFO:tensorflow:global_step/sec: 1748.07\n",
      "INFO:tensorflow:loss = 0.0106715835122, step = 201\n",
      "INFO:tensorflow:global_step/sec: 1657.77\n",
      "INFO:tensorflow:loss = 0.000708966793414, step = 301\n",
      "INFO:tensorflow:global_step/sec: 1396.26\n",
      "INFO:tensorflow:loss = 6.13961808275e-05, step = 401\n",
      "INFO:tensorflow:global_step/sec: 1260.24\n",
      "INFO:tensorflow:loss = 2.79386608583e-06, step = 501\n",
      "INFO:tensorflow:global_step/sec: 1345.61\n",
      "INFO:tensorflow:loss = 5.76329839268e-07, step = 601\n",
      "INFO:tensorflow:global_step/sec: 1481.68\n",
      "INFO:tensorflow:loss = 3.15359484159e-08, step = 701\n",
      "INFO:tensorflow:global_step/sec: 1708.08\n",
      "INFO:tensorflow:loss = 2.65493194788e-09, step = 801\n",
      "INFO:tensorflow:global_step/sec: 1764.2\n",
      "INFO:tensorflow:loss = 1.14873336357e-10, step = 901\n",
      "INFO:tensorflow:Saving checkpoints for 1000 into /var/folders/fl/ht8mv2zd5nq5txxpt3w7jq_h0000gn/T/tmpyvnwc4o_/model.ckpt.\n",
      "INFO:tensorflow:Loss for final step: 3.39748517863e-11.\n",
      "INFO:tensorflow:Starting evaluation at 2017-04-21-08:03:04\n",
      "INFO:tensorflow:Evaluation [1/10]\n",
      "INFO:tensorflow:Evaluation [2/10]\n",
      "INFO:tensorflow:Evaluation [3/10]\n",
      "INFO:tensorflow:Evaluation [4/10]\n",
      "INFO:tensorflow:Evaluation [5/10]\n",
      "INFO:tensorflow:Evaluation [6/10]\n",
      "INFO:tensorflow:Evaluation [7/10]\n",
      "INFO:tensorflow:Evaluation [8/10]\n",
      "INFO:tensorflow:Evaluation [9/10]\n",
      "INFO:tensorflow:Evaluation [10/10]\n",
      "INFO:tensorflow:Finished evaluation at 2017-04-21-08:03:04\n",
      "INFO:tensorflow:Saving dict for global step 1000: global_step = 1000, loss = 2.01671e-11\n",
      "WARNING:tensorflow:Skipping summary for global_step, must be a float or np.float32.\n",
      "{'loss': 2.0167078e-11, 'global_step': 1000}\n"
     ]
    }
   ],
   "source": [
    "def model(features, labels, mode):\n",
    "    # build a linear model and predict values\n",
    "    W = tf.get_variable('W', [1], dtype=tf.float64)\n",
    "    b = tf.get_variable('b', [1], dtype=tf.float64)\n",
    "    y = W * features['x'] + b\n",
    "    \n",
    "    # loss graph\n",
    "    loss = tf.reduce_sum(tf.square(y - labels))\n",
    "    \n",
    "    # training sub-graph\n",
    "    global_step = tf.train.get_global_step()\n",
    "    optimizer = tf.train.GradientDescentOptimizer(0.01)\n",
    "    train = tf.group(optimizer.minimize(loss), tf.assign_add(global_step, 1))\n",
    "    \n",
    "    # ModelFnOps connects subgraphs we built to the appropriate functionality\n",
    "    return tf.contrib.learn.ModelFnOps(\n",
    "        mode=mode,\n",
    "        predictions=y,\n",
    "        loss=loss,\n",
    "        train_op=train\n",
    "    )\n",
    "\n",
    "estimator = tf.contrib.learn.Estimator(model_fn=model)\n",
    "\n",
    "x = np.array([1., 2., 3., 4.])\n",
    "y = np.array([0., -1., -2., -3.])\n",
    "input_fn = tf.contrib.learn.io.numpy_input_fn({'x': x}, y, 4, num_epochs=1000)\n",
    "\n",
    "estimator.fit(input_fn=input_fn, steps=1000)\n",
    "\n",
    "print(estimator.evaluate(input_fn=input_fn, steps=10))"
   ]
  },
  {
   "cell_type": "code",
   "execution_count": null,
   "metadata": {
    "collapsed": true
   },
   "outputs": [],
   "source": []
  }
 ],
 "metadata": {
  "kernelspec": {
   "display_name": "Python3 Tensorflow (dice)",
   "language": "python",
   "name": "tensorflow"
  },
  "language_info": {
   "codemirror_mode": {
    "name": "ipython",
    "version": 3
   },
   "file_extension": ".py",
   "mimetype": "text/x-python",
   "name": "python",
   "nbconvert_exporter": "python",
   "pygments_lexer": "ipython3",
   "version": "3.6.1"
  }
 },
 "nbformat": 4,
 "nbformat_minor": 2
}
